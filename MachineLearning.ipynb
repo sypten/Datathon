{
 "cells": [
  {
   "cell_type": "code",
   "execution_count": null,
   "metadata": {},
   "outputs": [],
   "source": [
    "import pandas as pd\n",
    "datos=pd.read_excel(\"E-Commerce_train.xlsx\")\n",
    "datos.head()"
   ]
  },
  {
   "cell_type": "code",
   "execution_count": 2,
   "metadata": {},
   "outputs": [],
   "source": [
    "from sklearn.preprocessing import MinMaxScaler\n",
    "\n",
    "#instanciamos nuestro objeto con un rango correspondiende al del descuento obrecido en tantos por uno, ignorando la copia\n",
    "scaler = MinMaxScaler(feature_range=(.01,.65), copy=False)\n",
    "\n",
    "scaler.fit(datos[['Discount_offered']])\n",
    "\n",
    "datos['Discount_offered'] = scaler.transform(datos[['Discount_offered']])\n",
    "from sklearn.preprocessing import MinMaxScaler\n",
    "\n",
    "#instanciamos nuestro objeto con un rango de 1 a 10 ignorando la copia\n",
    "scaler = MinMaxScaler(feature_range=(1,10), copy=False)\n",
    "\n",
    "scaler.fit(datos[['Weight_in_gms']])\n",
    "\n",
    "datos['Weight_in_gms'] = scaler.transform(datos[['Weight_in_gms']])\n",
    "\n",
    "seleccion=[\"Discount_offered\",\"Weight_in_gms\"]\n",
    "\n",
    "objetivo=datos[\"Reached.on.Time_Y.N\"]\n",
    "\n",
    "variables=datos[seleccion]"
   ]
  },
  {
   "cell_type": "code",
   "execution_count": 5,
   "metadata": {},
   "outputs": [],
   "source": [
    "from sklearn.ensemble import RandomForestClassifier\n",
    "\n",
    "clf = RandomForestClassifier(min_samples_split=0.08, n_estimators= 15000)\n",
    "\n",
    "clf = clf.fit(variables, objetivo)"
   ]
  },
  {
   "cell_type": "code",
   "execution_count": 6,
   "metadata": {},
   "outputs": [],
   "source": [
    "apredecir=pd.read_excel(\"E-Commerce_test.xlsx\")"
   ]
  },
  {
   "cell_type": "code",
   "execution_count": 8,
   "metadata": {},
   "outputs": [],
   "source": [
    "from sklearn.preprocessing import MinMaxScaler\n",
    "\n",
    "#instanciamos nuestro objeto con un rango correspondiende al del descuento obrecido en tantos por uno, ignorando la copia\n",
    "scaler = MinMaxScaler(feature_range=(.01,.65), copy=False)\n",
    "\n",
    "scaler.fit(apredecir[['Discount_offered']])\n",
    "\n",
    "apredecir['Discount_offered'] = scaler.transform(apredecir[['Discount_offered']])\n",
    "from sklearn.preprocessing import MinMaxScaler\n",
    "\n",
    "#instanciamos nuestro objeto con un rango de 1 a 10 ignorando la copia\n",
    "scaler = MinMaxScaler(feature_range=(1,10), copy=False)\n",
    "\n",
    "scaler.fit(apredecir[['Weight_in_gms']])\n",
    "\n",
    "apredecir['Weight_in_gms'] = scaler.transform(apredecir[['Weight_in_gms']])\n",
    "\n",
    "seleccion=[\"Discount_offered\",\"Weight_in_gms\"]\n",
    "\n",
    "predecirVariables=apredecir[seleccion]"
   ]
  },
  {
   "cell_type": "code",
   "execution_count": 10,
   "metadata": {},
   "outputs": [],
   "source": [
    "salida=clf.predict(predecirVariables)"
   ]
  },
  {
   "cell_type": "code",
   "execution_count": 18,
   "metadata": {},
   "outputs": [],
   "source": [
    "salida=pd.DataFrame(salida,columns=[\"pred\"])"
   ]
  },
  {
   "cell_type": "code",
   "execution_count": 19,
   "metadata": {},
   "outputs": [],
   "source": [
    "salida.to_csv(\"sypten.csv\",index=False)"
   ]
  }
 ],
 "metadata": {
  "kernelspec": {
   "display_name": "Python 3.10.4 ('.venv': venv)",
   "language": "python",
   "name": "python3"
  },
  "language_info": {
   "codemirror_mode": {
    "name": "ipython",
    "version": 3
   },
   "file_extension": ".py",
   "mimetype": "text/x-python",
   "name": "python",
   "nbconvert_exporter": "python",
   "pygments_lexer": "ipython3",
   "version": "3.10.4"
  },
  "orig_nbformat": 4,
  "vscode": {
   "interpreter": {
    "hash": "9b093e2f7b0501630e74a31f3c3f9743363407248e723eea807f3597e32272c7"
   }
  }
 },
 "nbformat": 4,
 "nbformat_minor": 2
}
